{
 "cells": [
  {
   "cell_type": "code",
   "execution_count": 1,
   "metadata": {},
   "outputs": [
    {
     "name": "stdout",
     "output_type": "stream",
     "text": [
      "env: ENABLE_DIMENSIONAL_ANALYSIS=1\n",
      "env: NUMBA_DISABLE_JIT=1\n"
     ]
    }
   ],
   "source": [
    "%env ENABLE_DIMENSIONAL_ANALYSIS 1\n",
    "%env NUMBA_DISABLE_JIT 1"
   ]
  },
  {
   "cell_type": "code",
   "execution_count": 2,
   "metadata": {},
   "outputs": [
    {
     "name": "stdout",
     "output_type": "stream",
     "text": [
      "ENABLE_DIMENSIONAL_ANALYSIS: True\n",
      "NUMBA_DISABLE_JIT: True\n"
     ]
    }
   ],
   "source": [
    "%run \"test_case.ipynb\""
   ]
  },
  {
   "cell_type": "code",
   "execution_count": 3,
   "metadata": {},
   "outputs": [
    {
     "name": "stdout",
     "output_type": "stream",
     "text": [
      "-9.8 kelvin * kilogram * meter / kilojoule / second ** 2\n"
     ]
    }
   ],
   "source": [
    "print(gamma)"
   ]
  },
  {
   "cell_type": "code",
   "execution_count": 4,
   "metadata": {},
   "outputs": [],
   "source": [
    "result = test_run()"
   ]
  },
  {
   "cell_type": "code",
   "execution_count": 5,
   "metadata": {},
   "outputs": [
    {
     "name": "stdout",
     "output_type": "stream",
     "text": [
      "0 meter\t 300 kelvin\n",
      "100 meter\t 299.635 kelvin\n",
      "200 meter\t 299.268 kelvin\n",
      "300 meter\t 298.901 kelvin\n",
      "400 meter\t 298.533 kelvin\n",
      "500 meter\t 298.163 kelvin\n",
      "600 meter\t 297.793 kelvin\n",
      "700 meter\t 297.421 kelvin\n",
      "800 meter\t 297.048 kelvin\n",
      "900 meter\t 296.674 kelvin\n",
      "1000 meter\t 296.299 kelvin\n"
     ]
    }
   ],
   "source": [
    "test_print(result)"
   ]
  },
  {
   "cell_type": "code",
   "execution_count": 6,
   "metadata": {},
   "outputs": [
    {
     "name": "stdout",
     "output_type": "stream",
     "text": [
      "5.65 s ± 548 ms per loop (mean ± std. dev. of 7 runs, 1 loop each)\n"
     ]
    }
   ],
   "source": [
    "%timeit test_run()"
   ]
  },
  {
   "cell_type": "code",
   "execution_count": null,
   "metadata": {},
   "outputs": [],
   "source": []
  }
 ],
 "metadata": {
  "kernelspec": {
   "display_name": "Python 3",
   "language": "python",
   "name": "python3"
  },
  "language_info": {
   "codemirror_mode": {
    "name": "ipython",
    "version": 3
   },
   "file_extension": ".py",
   "mimetype": "text/x-python",
   "name": "python",
   "nbconvert_exporter": "python",
   "pygments_lexer": "ipython3",
   "version": "3.8.2"
  }
 },
 "nbformat": 4,
 "nbformat_minor": 4
}
