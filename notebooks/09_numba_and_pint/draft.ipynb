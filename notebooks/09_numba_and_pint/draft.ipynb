{
 "cells": [
  {
   "cell_type": "markdown",
   "metadata": {},
   "source": [
    "- circumstances...\n",
    "- coronavirus vs. exam vs. projects\n",
    "- date for next presentations\n",
    "- questions welcome!\n",
    "\n",
    "- topics for today:\n",
    "  - physics: dry and wet adiabatic lapse rates\n",
    "  - impl: speeding up with numba, coupling pint and numba"
   ]
  },
  {
   "cell_type": "code",
   "execution_count": 1,
   "metadata": {},
   "outputs": [],
   "source": [
    "import numpy as np\n",
    "import pint\n",
    "si = pint.UnitRegistry()"
   ]
  },
  {
   "cell_type": "code",
   "execution_count": 2,
   "metadata": {},
   "outputs": [],
   "source": [
    "g = 9.8 * si.metre / si.second**2\n",
    "eps = 0.622\n",
    "L = 2.5e6 * si.joule / si.kilogram\n",
    "R = 287 * si.joule / si.kilogram / si.kelvin\n",
    "c_p = 1 * si.kilojoule / si.kilogram / si.kelvin\n",
    "A = 2.53e8 * si.kilopascals\n",
    "B = 5.42e3 * si.kelvin\n",
    "\n",
    "z0 = 0 * si.metres\n",
    "T0 = 300 * si.kelvin\n",
    "p0 = 1000 * si.hectopascals\n",
    "\n",
    "# adiabatic lapse rate (eq. 3.8, R&Y)\n",
    "gamma = -g / c_p\n",
    "\n",
    "# saturated vapour pressure (approx!, eq. 2.12, R&Y)\n",
    "def e_s(T):\n",
    "    return A * np.exp(-B/T)\n",
    "\n",
    "# w = rho_v / rho_d = ... (eq. 2.18, R&Y)\n",
    "def w_s(T, p):\n",
    "    e = e_s(T)\n",
    "    return eps * e / (p - e)\n",
    "\n",
    "# pseudoadiabatic lapse rate (eq. 3.16, R&Y)\n",
    "def gamma_s(T, p):\n",
    "    return gamma * (1 + L * w_s(T, p) / R / T) / (1 + L**2 * eps * w_s(T, p) / R / c_p / T**2)\n",
    "\n",
    "# hydrostatic pressure (approx!, eq. 3.3, R&Y)\n",
    "def p_hydro(T_mean, z, z0, p0):\n",
    "    return p0 * np.exp(-g / R / T_mean * (z-z0))"
   ]
  },
  {
   "cell_type": "code",
   "execution_count": 3,
   "metadata": {},
   "outputs": [],
   "source": [
    "def test_gamma_s():\n",
    "    assert gamma_s(T0, p0).check('[temperature]/[length]')"
   ]
  },
  {
   "cell_type": "code",
   "execution_count": 4,
   "metadata": {},
   "outputs": [
    {
     "name": "stdout",
     "output_type": "stream",
     "text": [
      "-9.8 kelvin / kilometer\n"
     ]
    }
   ],
   "source": [
    "print(gamma.to(si.kelvin/si.kilometre))"
   ]
  },
  {
   "cell_type": "code",
   "execution_count": 5,
   "metadata": {},
   "outputs": [
    {
     "name": "stdout",
     "output_type": "stream",
     "text": [
      "-3.6480534431388887 kelvin / kilometer\n"
     ]
    }
   ],
   "source": [
    "print(gamma_s(T0, p0).to(si.kelvin/si.kilometre))"
   ]
  },
  {
   "cell_type": "code",
   "execution_count": null,
   "metadata": {},
   "outputs": [],
   "source": []
  }
 ],
 "metadata": {
  "kernelspec": {
   "display_name": "Python 3",
   "language": "python",
   "name": "python3"
  },
  "language_info": {
   "codemirror_mode": {
    "name": "ipython",
    "version": 3
   },
   "file_extension": ".py",
   "mimetype": "text/x-python",
   "name": "python",
   "nbconvert_exporter": "python",
   "pygments_lexer": "ipython3",
   "version": "3.8.2"
  }
 },
 "nbformat": 4,
 "nbformat_minor": 4
}
