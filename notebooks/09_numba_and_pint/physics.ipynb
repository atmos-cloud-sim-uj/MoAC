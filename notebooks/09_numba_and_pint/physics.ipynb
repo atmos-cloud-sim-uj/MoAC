{
 "cells": [
  {
   "cell_type": "code",
   "execution_count": 1,
   "metadata": {},
   "outputs": [],
   "source": [
    "import numpy as np\n",
    "import numba"
   ]
  },
  {
   "cell_type": "code",
   "execution_count": 2,
   "metadata": {},
   "outputs": [],
   "source": [
    "import pint\n",
    "si = pint.UnitRegistry()\n",
    "\n",
    "import os\n",
    "if \"ENABLE_DIMENSIONAL_ANALYSIS\" not in os.environ:    \n",
    "    # magic solution by Piotr Bartman, Michael Olesik & SA\n",
    "    class FakeUnitRegistry:\n",
    "        @staticmethod\n",
    "        def __fake(si_unit):\n",
    "            return (1. * si_unit).to_base_units().magnitude\n",
    "\n",
    "        def __init__(self, si):\n",
    "            self.dimensionless = 1.\n",
    "            for prefix in [\"\", \"hecto\", \"kilo\"]:\n",
    "                for unit in [\"metre\", \"gram\", \"joule\", \"kelvin\", \"second\", \"pascal\"]:\n",
    "                    self.__setattr__(prefix+unit, self.__fake(si.__getattr__(prefix+unit)))\n",
    "                    self.__setattr__(prefix+unit + \"s\", self.__fake(si.__getattr__(prefix+unit + \"s\")))\n",
    "\n",
    "    si = FakeUnitRegistry(si)"
   ]
  },
  {
   "cell_type": "code",
   "execution_count": 3,
   "metadata": {},
   "outputs": [],
   "source": [
    "g = 9.8 * si.metre / si.second**2\n",
    "eps = 0.622\n",
    "L = 2.5e6 * si.joule / si.kilogram\n",
    "R = 287 * si.joule / si.kilogram / si.kelvin\n",
    "c_p = 1 * si.kilojoule / si.kilogram / si.kelvin\n",
    "A = 2.53e8 * si.kilopascals\n",
    "B = 5.42e3 * si.kelvin\n",
    "\n",
    "z0 = 0 * si.metres\n",
    "T0 = 300 * si.kelvin\n",
    "p0 = 1000 * si.hectopascals\n",
    "\n",
    "# adiabatic lapse rate (eq. 3.8, R&Y)\n",
    "gamma = -g / c_p\n",
    "\n",
    "# saturated vapour pressure (approx!, eq. 2.12, R&Y)\n",
    "@numba.njit()\n",
    "def e_s(T):\n",
    "    return A * np.exp(-B/T)\n",
    "\n",
    "# w = rho_v / rho_d = ... (eq. 2.18, R&Y)\n",
    "@numba.njit()\n",
    "def w_s(T, p):\n",
    "    e = e_s(T)\n",
    "    return eps * e / (p - e)\n",
    "\n",
    "# pseudoadiabatic lapse rate (eq. 3.16, R&Y)\n",
    "@numba.njit()\n",
    "def gamma_s(T, p):\n",
    "    return gamma * (1 + L * w_s(T, p) / R / T) / (1 + L**2 * eps * w_s(T, p) / R / c_p / T**2)\n",
    "\n",
    "# hydrostatic pressure (approx!, eq. 3.3, R&Y)\n",
    "@numba.njit()\n",
    "def p_hydro(T_mean, z, z0, p0):\n",
    "    return p0 * np.exp(-g / R / T_mean * (z-z0))"
   ]
  }
 ],
 "metadata": {
  "kernelspec": {
   "display_name": "Python 3",
   "language": "python",
   "name": "python3"
  },
  "language_info": {
   "codemirror_mode": {
    "name": "ipython",
    "version": 3
   },
   "file_extension": ".py",
   "mimetype": "text/x-python",
   "name": "python",
   "nbconvert_exporter": "python",
   "pygments_lexer": "ipython3",
   "version": "3.8.2"
  }
 },
 "nbformat": 4,
 "nbformat_minor": 4
}
