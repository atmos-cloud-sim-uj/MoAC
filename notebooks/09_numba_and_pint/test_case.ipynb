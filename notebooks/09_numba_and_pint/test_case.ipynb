{
 "cells": [
  {
   "cell_type": "code",
   "execution_count": 1,
   "metadata": {},
   "outputs": [
    {
     "name": "stdout",
     "output_type": "stream",
     "text": [
      "ENABLE_DIMENSIONAL_ANALYSIS: False\n",
      "NUMBA_DISABLE_JIT: False\n"
     ]
    }
   ],
   "source": [
    "import os\n",
    "for var in (\"ENABLE_DIMENSIONAL_ANALYSIS\", \"NUMBA_DISABLE_JIT\"):\n",
    "    print(f\"{var}: {var in os.environ}\")"
   ]
  },
  {
   "cell_type": "code",
   "execution_count": 2,
   "metadata": {},
   "outputs": [],
   "source": [
    "%run \"physics.ipynb\""
   ]
  },
  {
   "cell_type": "code",
   "execution_count": 3,
   "metadata": {},
   "outputs": [],
   "source": [
    "# https://rosettacode.org/wiki/Runge-Kutta_method#Python\n",
    "\n",
    "from math import sqrt \n",
    "\n",
    "@numba.njit()\n",
    "def rk4(f, x0, y0, x1, n):\n",
    "    vx = [0] * (n + 1)\n",
    "    vy = [0] * (n + 1)\n",
    "    h = (x1 - x0) / float(n)\n",
    "    vx[0] = x = x0\n",
    "    vy[0] = y = y0\n",
    "    for i in range(1, n + 1):\n",
    "        k1 = h * f(x, y)\n",
    "        k2 = h * f(x + 0.5 * h, y + 0.5 * k1)\n",
    "        k3 = h * f(x + 0.5 * h, y + 0.5 * k2)\n",
    "        k4 = h * f(x + h, y + k3)\n",
    "        vx[i] = x = x0 + i * h\n",
    "        vy[i] = y = y + (k1 + k2 + k2 + k3 + k3 + k4) / 6\n",
    "    return vx, vy"
   ]
  },
  {
   "cell_type": "code",
   "execution_count": 4,
   "metadata": {},
   "outputs": [],
   "source": [
    "@numba.njit()\n",
    "def rhs(z, T):\n",
    "    p = p_hydro((T+T0)/2, z, z0, p0)\n",
    "    return gamma_s(T, p)"
   ]
  },
  {
   "cell_type": "code",
   "execution_count": 5,
   "metadata": {},
   "outputs": [],
   "source": [
    "def test_run():\n",
    "    result = rk4(rhs, 0 * si.metre, T0, 1 * si.kilometre, 1000)\n",
    "    return result\n",
    "\n",
    "def test_print(result):\n",
    "    for z, T in list(zip(*result))[::100]:\n",
    "        print(f\"{z:g}\\t {T:g}\")"
   ]
  },
  {
   "cell_type": "code",
   "execution_count": null,
   "metadata": {},
   "outputs": [],
   "source": []
  }
 ],
 "metadata": {
  "kernelspec": {
   "display_name": "Python 3",
   "language": "python",
   "name": "python3"
  },
  "language_info": {
   "codemirror_mode": {
    "name": "ipython",
    "version": 3
   },
   "file_extension": ".py",
   "mimetype": "text/x-python",
   "name": "python",
   "nbconvert_exporter": "python",
   "pygments_lexer": "ipython3",
   "version": "3.8.2"
  }
 },
 "nbformat": 4,
 "nbformat_minor": 4
}
