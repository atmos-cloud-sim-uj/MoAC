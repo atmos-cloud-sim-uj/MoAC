{
 "cells": [
  {
   "cell_type": "markdown",
   "metadata": {},
   "source": [
    "# 1. let's calculate the density of dry air"
   ]
  },
  {
   "cell_type": "code",
   "execution_count": 1,
   "metadata": {},
   "outputs": [],
   "source": [
    "# ideal gas law (R: specific gas constant)\n",
    "def rho(p, R, T):\n",
    "    return p/(R*T)"
   ]
  },
  {
   "cell_type": "code",
   "execution_count": 2,
   "metadata": {},
   "outputs": [],
   "source": [
    "import pint\n",
    "si = pint.UnitRegistry()"
   ]
  },
  {
   "cell_type": "code",
   "execution_count": 3,
   "metadata": {},
   "outputs": [],
   "source": [
    "from scipy import constants\n",
    "\n",
    "R_str = constants.R * si.joule / si.kelvin / si.mole"
   ]
  },
  {
   "cell_type": "code",
   "execution_count": 4,
   "metadata": {},
   "outputs": [
    {
     "name": "stdout",
     "output_type": "stream",
     "text": [
      "Md = 28.96998 gram / mole\n"
     ]
    }
   ],
   "source": [
    "import mendeleev as pt\n",
    "\n",
    "def molar_mass(x):\n",
    "    return x.atomic_weight * si.gram / si.mole\n",
    "\n",
    "Md = (\n",
    "    0.78 * molar_mass(pt.N) * 2 + \n",
    "    0.21 * molar_mass(pt.O) * 2 + \n",
    "    0.01 * molar_mass(pt.Ar)\n",
    ")\n",
    "print(f\"Md = {Md}\")"
   ]
  },
  {
   "cell_type": "code",
   "execution_count": 5,
   "metadata": {},
   "outputs": [
    {
     "name": "stdout",
     "output_type": "stream",
     "text": [
      "rho_d = 1.16 kilogram / meter ** 3\n",
      "rho_d = 0.00116 gram / centimeter ** 3\n"
     ]
    }
   ],
   "source": [
    "rho_d = rho(\n",
    "    p = 1000 * si.hectopascals,\n",
    "    T = 300 * si.kelvins,\n",
    "    R = R_str / Md\n",
    ")\n",
    "print(f\"rho_d = {rho_d.to_base_units():.3g}\")\n",
    "print(f\"rho_d = {rho_d.to(si.gram / si.centimetre**3):.3g}\")"
   ]
  },
  {
   "cell_type": "markdown",
   "metadata": {},
   "source": [
    "# 2. let's get some real data"
   ]
  },
  {
   "cell_type": "code",
   "execution_count": 6,
   "metadata": {},
   "outputs": [],
   "source": [
    "from datetime import datetime\n",
    "from siphon.simplewebservice.wyoming import WyomingUpperAir"
   ]
  },
  {
   "cell_type": "code",
   "execution_count": 7,
   "metadata": {},
   "outputs": [],
   "source": [
    "date = datetime(2020, 2, 23, 0)\n",
    "station = '12425'"
   ]
  },
  {
   "cell_type": "code",
   "execution_count": 8,
   "metadata": {},
   "outputs": [],
   "source": [
    "df = WyomingUpperAir.request_data(date, station)"
   ]
  },
  {
   "cell_type": "code",
   "execution_count": 9,
   "metadata": {},
   "outputs": [
    {
     "name": "stdout",
     "output_type": "stream",
     "text": [
      "    pressure  height  temperature  dewpoint  direction  speed      u_wind  \\\n",
      "0     1001.0     116         10.8       2.8        260     10    9.848078   \n",
      "1     1000.0     131         10.8       2.8        260     10    9.848078   \n",
      "2      949.0     564          7.2       1.8        270     39   39.000000   \n",
      "3      925.0     776          5.4       1.3        275     41   40.843983   \n",
      "4      862.0    1347         -0.1      -0.1        279     46   45.433664   \n",
      "5      850.0    1459         -0.7      -0.7        280     47   46.285964   \n",
      "6      817.0    1772         -2.6      -2.6        285     52   50.228143   \n",
      "7      740.0    2553         -7.3      -7.3        288     59   56.112334   \n",
      "8      725.0    2714         -4.1      -7.6        289     60   56.731115   \n",
      "9      700.0    2990         -4.9      -9.5        290     62   58.260942   \n",
      "10     693.0    3069         -4.7     -10.7        292     63   58.412583   \n",
      "11     681.0    3206         -5.8     -10.8        295     64   58.003698   \n",
      "12     648.0    3593         -8.9     -10.9        292     66   61.194134   \n",
      "13     560.0    4709        -15.6     -18.6        285     70   67.614808   \n",
      "14     554.0    4791        -16.1     -19.2        283     73   71.129015   \n",
      "15     529.0    5138        -17.0     -19.1        275     84   83.680355   \n",
      "16     515.0    5339        -17.5     -19.1        277     89   88.336607   \n",
      "17     501.0    5545        -19.2     -20.3        280     95   93.556737   \n",
      "18     500.0    5560        -19.3     -20.4        280     95   93.556737   \n",
      "19     469.0    6032        -23.3     -23.7        285     92   88.865176   \n",
      "20     445.0    6415        -26.3     -28.5        290     89   83.632643   \n",
      "21     444.0    6431        -26.4     -28.7        290     89   83.632643   \n",
      "22     423.0    6780        -27.5     -32.5        290     92   86.451721   \n",
      "23     400.0    7180        -30.7     -33.2        290     95   89.270799   \n",
      "24     361.0    7901        -36.1     -36.6        290    105   98.667725   \n",
      "25     356.0    7998        -36.7     -37.8        290    107  100.547110   \n",
      "26     351.0    8096        -37.3     -39.0        290    107  100.547110   \n",
      "27     304.0    9072        -45.5     -51.5        295    107   96.974933   \n",
      "28     300.0    9160        -46.3     -50.9        295    107   96.974933   \n",
      "29     286.0    9475        -49.3     -51.7        294    107   97.749364   \n",
      "30     268.0    9896        -52.9     -55.5        292    108  100.135856   \n",
      "31     260.0   10091        -54.3     -60.3        291    108  100.826686   \n",
      "32     250.0   10340        -56.7     -60.7        290    109  102.426496   \n",
      "33     248.0   10391        -56.9     -60.9        290    109  102.426496   \n",
      "34     229.0   10892        -60.7     -63.4        290    116  109.004344   \n",
      "35     216.0   11255        -63.1     -69.1        290    120  112.763114   \n",
      "36     215.0   11283        -63.0     -69.6        290    120  112.763114   \n",
      "37     211.0   11399        -62.7     -71.7        293    119  109.540078   \n",
      "38     202.0   11669        -62.4     -71.4        300    115   99.592921   \n",
      "39     200.0   11730        -62.3     -71.3        300    113   97.860871   \n",
      "40     188.0   12111        -62.0     -76.3        300     80   69.282032   \n",
      "41     182.0   12311        -61.9     -78.9        297     77   68.607502   \n",
      "42     173.0   12627        -57.3     -79.3        292     73   67.684421   \n",
      "43     152.0   13446        -55.7     -79.5        280     62   61.058081   \n",
      "44     150.0   13530        -55.5     -79.5        280     62   61.058081   \n",
      "45     140.0   13969        -54.1     -79.1        269     62   61.990557   \n",
      "46     136.0   14153        -54.2     -79.2        265     62   61.764071   \n",
      "47     126.0   14639        -54.4     -79.4        280     58   57.118850   \n",
      "48     119.0   15003        -54.6     -79.6        270     56   56.000000   \n",
      "49     100.0   16110        -55.1     -80.1        275     49   48.813540   \n",
      "\n",
      "          v_wind station  station_number       time  latitude  longitude  \\\n",
      "0   1.736482e+00                   12425 2020-02-23     51.13      16.98   \n",
      "1   1.736482e+00                   12425 2020-02-23     51.13      16.98   \n",
      "2   7.164184e-15                   12425 2020-02-23     51.13      16.98   \n",
      "3  -3.573385e+00                   12425 2020-02-23     51.13      16.98   \n",
      "4  -7.195985e+00                   12425 2020-02-23     51.13      16.98   \n",
      "5  -8.161464e+00                   12425 2020-02-23     51.13      16.98   \n",
      "6  -1.345859e+01                   12425 2020-02-23     51.13      16.98   \n",
      "7  -1.823200e+01                   12425 2020-02-23     51.13      16.98   \n",
      "8  -1.953409e+01                   12425 2020-02-23     51.13      16.98   \n",
      "9  -2.120525e+01                   12425 2020-02-23     51.13      16.98   \n",
      "10 -2.360022e+01                   12425 2020-02-23     51.13      16.98   \n",
      "11 -2.704757e+01                   12425 2020-02-23     51.13      16.98   \n",
      "12 -2.472404e+01                   12425 2020-02-23     51.13      16.98   \n",
      "13 -1.811733e+01                   12425 2020-02-23     51.13      16.98   \n",
      "14 -1.642143e+01                   12425 2020-02-23     51.13      16.98   \n",
      "15 -7.321082e+00                   12425 2020-02-23     51.13      16.98   \n",
      "16 -1.084637e+01                   12425 2020-02-23     51.13      16.98   \n",
      "17 -1.649658e+01                   12425 2020-02-23     51.13      16.98   \n",
      "18 -1.649658e+01                   12425 2020-02-23     51.13      16.98   \n",
      "19 -2.381135e+01                   12425 2020-02-23     51.13      16.98   \n",
      "20 -3.043979e+01                   12425 2020-02-23     51.13      16.98   \n",
      "21 -3.043979e+01                   12425 2020-02-23     51.13      16.98   \n",
      "22 -3.146585e+01                   12425 2020-02-23     51.13      16.98   \n",
      "23 -3.249191e+01                   12425 2020-02-23     51.13      16.98   \n",
      "24 -3.591212e+01                   12425 2020-02-23     51.13      16.98   \n",
      "25 -3.659616e+01                   12425 2020-02-23     51.13      16.98   \n",
      "26 -3.659616e+01                   12425 2020-02-23     51.13      16.98   \n",
      "27 -4.522015e+01                   12425 2020-02-23     51.13      16.98   \n",
      "28 -4.522015e+01                   12425 2020-02-23     51.13      16.98   \n",
      "29 -4.352082e+01                   12425 2020-02-23     51.13      16.98   \n",
      "30 -4.045751e+01                   12425 2020-02-23     51.13      16.98   \n",
      "31 -3.870374e+01                   12425 2020-02-23     51.13      16.98   \n",
      "32 -3.728020e+01                   12425 2020-02-23     51.13      16.98   \n",
      "33 -3.728020e+01                   12425 2020-02-23     51.13      16.98   \n",
      "34 -3.967434e+01                   12425 2020-02-23     51.13      16.98   \n",
      "35 -4.104242e+01                   12425 2020-02-23     51.13      16.98   \n",
      "36 -4.104242e+01                   12425 2020-02-23     51.13      16.98   \n",
      "37 -4.649700e+01                   12425 2020-02-23     51.13      16.98   \n",
      "38 -5.750000e+01                   12425 2020-02-23     51.13      16.98   \n",
      "39 -5.650000e+01                   12425 2020-02-23     51.13      16.98   \n",
      "40 -4.000000e+01                   12425 2020-02-23     51.13      16.98   \n",
      "41 -3.495727e+01                   12425 2020-02-23     51.13      16.98   \n",
      "42 -2.734628e+01                   12425 2020-02-23     51.13      16.98   \n",
      "43 -1.076619e+01                   12425 2020-02-23     51.13      16.98   \n",
      "44 -1.076619e+01                   12425 2020-02-23     51.13      16.98   \n",
      "45  1.082049e+00                   12425 2020-02-23     51.13      16.98   \n",
      "46  5.403656e+00                   12425 2020-02-23     51.13      16.98   \n",
      "47 -1.007159e+01                   12425 2020-02-23     51.13      16.98   \n",
      "48  1.028703e-14                   12425 2020-02-23     51.13      16.98   \n",
      "49 -4.270631e+00                   12425 2020-02-23     51.13      16.98   \n",
      "\n",
      "    elevation  \n",
      "0       116.0  \n",
      "1       116.0  \n",
      "2       116.0  \n",
      "3       116.0  \n",
      "4       116.0  \n",
      "5       116.0  \n",
      "6       116.0  \n",
      "7       116.0  \n",
      "8       116.0  \n",
      "9       116.0  \n",
      "10      116.0  \n",
      "11      116.0  \n",
      "12      116.0  \n",
      "13      116.0  \n",
      "14      116.0  \n",
      "15      116.0  \n",
      "16      116.0  \n",
      "17      116.0  \n",
      "18      116.0  \n",
      "19      116.0  \n",
      "20      116.0  \n",
      "21      116.0  \n",
      "22      116.0  \n",
      "23      116.0  \n",
      "24      116.0  \n",
      "25      116.0  \n",
      "26      116.0  \n",
      "27      116.0  \n",
      "28      116.0  \n",
      "29      116.0  \n",
      "30      116.0  \n",
      "31      116.0  \n",
      "32      116.0  \n",
      "33      116.0  \n",
      "34      116.0  \n",
      "35      116.0  \n",
      "36      116.0  \n",
      "37      116.0  \n",
      "38      116.0  \n",
      "39      116.0  \n",
      "40      116.0  \n",
      "41      116.0  \n",
      "42      116.0  \n",
      "43      116.0  \n",
      "44      116.0  \n",
      "45      116.0  \n",
      "46      116.0  \n",
      "47      116.0  \n",
      "48      116.0  \n",
      "49      116.0  \n"
     ]
    }
   ],
   "source": [
    "print(df)"
   ]
  },
  {
   "cell_type": "markdown",
   "metadata": {},
   "source": [
    "# 3. let's learn a bit more about water at saturation"
   ]
  },
  {
   "cell_type": "code",
   "execution_count": 10,
   "metadata": {},
   "outputs": [],
   "source": [
    "# coefficients from Flatau et al. 1992\n",
    "# doi:10.1175/1520-0450(1992)031<1507%3APFTSVP>2.0.CO%3B2\n",
    "\n",
    "c_w = (\n",
    "    6.115836990e000,\n",
    "    0.444606896e000,\n",
    "    0.143177157e-01,\n",
    "    0.264224321e-03,\n",
    "    0.299291081e-05,\n",
    "    0.203154182e-07,\n",
    "    0.702620698e-10,\n",
    "    0.379534310e-13,\n",
    "    -.321582393e-15\n",
    ")\n",
    "\n",
    "c_i = (\n",
    "    6.098689930e000,\n",
    "    0.499320233e000,\n",
    "    0.184672631e-01,\n",
    "    0.402737184e-03,\n",
    "    0.565392987e-05,\n",
    "    0.521693933e-07,\n",
    "    0.307839583e-09,\n",
    "    0.105785160e-11,\n",
    "    0.161444444e-14\n",
    ")"
   ]
  },
  {
   "cell_type": "code",
   "execution_count": 11,
   "metadata": {},
   "outputs": [],
   "source": [
    "T0 = constants.zero_Celsius * si.kelvin\n",
    "# triple point\n",
    "p_tri = 611.73 * si.pascal\n",
    "T_tri = 273.16 * si.kelvin"
   ]
  },
  {
   "cell_type": "code",
   "execution_count": 12,
   "metadata": {},
   "outputs": [],
   "source": [
    "import numpy as np\n",
    "from numpy.polynomial.polynomial import polyval\n",
    "\n",
    "def __p_sat(temperature, coefficients, valid_range):\n",
    "    value = polyval(temperature.to(si.celsius).magnitude, coefficients)\n",
    "\n",
    "    if isinstance(temperature.magnitude, np.ndarray):\n",
    "        value[np.logical_or(temperature < valid_range[0], temperature > valid_range[1])] = np.nan\n",
    "    else:\n",
    "        value = np.nan if not valid_range[0] < temperature <= valid_range[1] else value\n",
    "        \n",
    "    return value * si.hectopascals    \n",
    "\n",
    "def p_vw(T):\n",
    "    return __p_sat(T, c_w, (T0-85 * si.kelvin, np.inf * si.kelvin))\n",
    "\n",
    "def p_vi(T):\n",
    "    return __p_sat(T, c_i, (T0-90 * si.kelvin, T_tri))"
   ]
  },
  {
   "cell_type": "code",
   "execution_count": 13,
   "metadata": {},
   "outputs": [],
   "source": [
    "assert abs(p_vw(T_tri) - p_tri) < 1 * si.pascal\n",
    "assert abs(p_vi(T_tri) - p_tri) < 2 * si.pascal"
   ]
  },
  {
   "cell_type": "code",
   "execution_count": 14,
   "metadata": {},
   "outputs": [],
   "source": [
    "from matplotlib import pyplot\n",
    "si.setup_matplotlib()"
   ]
  },
  {
   "cell_type": "code",
   "execution_count": 15,
   "metadata": {},
   "outputs": [
    {
     "data": {
      "text/plain": [
       "<matplotlib.legend.Legend at 0x7fb6365df910>"
      ]
     },
     "execution_count": 15,
     "metadata": {},
     "output_type": "execute_result"
    },
    {
     "data": {
      "image/png": "[encoded data removed]",
      "text/plain": [
       "<Figure size 432x288 with 1 Axes>"
      ]
     },
     "metadata": {
      "needs_background": "light"
     },
     "output_type": "display_data"
    }
   ],
   "source": [
    "Tx = np.linspace(250, 275, 100) * si.kelvin\n",
    "pyplot.plot(Tx, p_vw(Tx), label='$p_{vs}$ wrt water')\n",
    "pyplot.plot(Tx, p_vi(Tx), label='$p_{vs}$ wrt ice')\n",
    "pyplot.gca().xaxis.set_units(si.celsius) \n",
    "pyplot.gca().yaxis.set_units(si.hectopascal) \n",
    "pyplot.legend()"
   ]
  },
  {
   "cell_type": "markdown",
   "metadata": {},
   "source": [
    "# 4. let's then plot the sounding data"
   ]
  },
  {
   "cell_type": "code",
   "execution_count": 16,
   "metadata": {},
   "outputs": [
    {
     "data": {
      "image/png": "[encoded data removed]",
      "text/plain": [
       "<Figure size 432x288 with 1 Axes>"
      ]
     },
     "metadata": {
      "needs_background": "light"
     },
     "output_type": "display_data"
    }
   ],
   "source": [
    "T = T0 + df.temperature.values * si.kelvin\n",
    "Td = T0 + df.dewpoint.values * si.kelvin\n",
    "p = df.pressure.values * si.hectopascal\n",
    "\n",
    "pyplot.plot(T, p, label='T')\n",
    "pyplot.plot(Td, p, label='$T_d$')\n",
    "pyplot.gca().invert_yaxis()\n",
    "pyplot.gca().xaxis.set_units(si.celsius)\n",
    "pyplot.grid()"
   ]
  },
  {
   "cell_type": "code",
   "execution_count": 17,
   "metadata": {},
   "outputs": [
    {
     "data": {
      "text/plain": [
       "<matplotlib.legend.Legend at 0x7fb630c9e410>"
      ]
     },
     "execution_count": 17,
     "metadata": {},
     "output_type": "execute_result"
    },
    {
     "data": {
      "image/png": "[encoded data removed]",
      "text/plain": [
       "<Figure size 432x288 with 1 Axes>"
      ]
     },
     "metadata": {
      "needs_background": "light"
     },
     "output_type": "display_data"
    }
   ],
   "source": [
    "RH_w = 100 * p_vw(Td) / p_vw(T)\n",
    "RH_i = 100 * p_vw(Td) / p_vi(T)\n",
    "\n",
    "pyplot.plot(RH_w, p, label='$RH_w$')\n",
    "pyplot.plot(RH_i, p, label='$RH_i$')\n",
    "pyplot.gca().invert_yaxis()\n",
    "pyplot.legend()\n",
    "pyplot.grid()\n",
    "pyplot.legend()"
   ]
  },
  {
   "cell_type": "markdown",
   "metadata": {},
   "source": [
    "# 5. boiling point"
   ]
  },
  {
   "cell_type": "code",
   "execution_count": 18,
   "metadata": {},
   "outputs": [],
   "source": [
    "from scipy.optimize import root_scalar\n",
    "\n",
    "def T_boil(p):\n",
    "    result = root_scalar(\n",
    "        lambda x: (p - p_vw(x*si.kelvin)).magnitude, \n",
    "        x0=300, \n",
    "        x1=400\n",
    "    )\n",
    "    assert result.converged\n",
    "    return result.root * si.kelvins"
   ]
  },
  {
   "cell_type": "code",
   "execution_count": 19,
   "metadata": {},
   "outputs": [
    {
     "name": "stdout",
     "output_type": "stream",
     "text": [
      "T_boil @ p=500 hectopascal = 81.2 degC\n"
     ]
    }
   ],
   "source": [
    "p = 500 * si.hectopascals\n",
    "print(f\"T_boil @ p={p} = {T_boil(p).to(si.celsius):.3g}\")"
   ]
  },
  {
   "cell_type": "code",
   "execution_count": null,
   "metadata": {},
   "outputs": [],
   "source": []
  },
  {
   "cell_type": "code",
   "execution_count": null,
   "metadata": {},
   "outputs": [],
   "source": []
  }
 ],
 "metadata": {
  "kernelspec": {
   "display_name": "Python 3",
   "language": "python",
   "name": "python3"
  },
  "language_info": {
   "codemirror_mode": {
    "name": "ipython",
    "version": 3
   },
   "file_extension": ".py",
   "mimetype": "text/x-python",
   "name": "python",
   "nbconvert_exporter": "python",
   "pygments_lexer": "ipython3",
   "version": "3.7.6"
  }
 },
 "nbformat": 4,
 "nbformat_minor": 4
}
