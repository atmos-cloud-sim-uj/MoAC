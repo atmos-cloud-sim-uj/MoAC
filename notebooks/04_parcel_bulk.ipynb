{
 "cells": [
  {
   "cell_type": "markdown",
   "metadata": {},
   "source": [
    "# Modelling of Atmospheric Clodus\n",
    "#### copyright: Jagiellonian University   \n",
    "#### licence: CC-BY\n",
    "#### author: Sylwester Arabas"
   ]
  },
  {
   "cell_type": "markdown",
   "metadata": {},
   "source": [
    "## Class 4 (March 16, virtual)\n",
    "\n",
    "Let's try to reproduce Figure 7.4 from Rogers & Yau \n",
    "(first and last panel this week, middle panels next week)"
   ]
  },
  {
   "cell_type": "markdown",
   "metadata": {},
   "source": [
    "![alt text](Rogers_Yau_Fig_7.4.png \"Rogers_Yau_Fig_7.4\")"
   ]
  },
  {
   "cell_type": "markdown",
   "metadata": {},
   "source": [
    "### previously on..."
   ]
  },
  {
   "cell_type": "code",
   "execution_count": 1,
   "metadata": {},
   "outputs": [],
   "source": [
    "import numpy as np\n",
    "import pint\n",
    "from matplotlib import pyplot\n",
    "si = pint.UnitRegistry()\n",
    "si.setup_matplotlib()"
   ]
  },
  {
   "cell_type": "code",
   "execution_count": 2,
   "metadata": {},
   "outputs": [],
   "source": [
    "class Constants:\n",
    "    from scipy import constants\n",
    "    import mendeleev as pt\n",
    "    \n",
    "    # polynomial fot to equilibrium vapour pressure wrt water (coefficients from Flatau et al. 1992)\n",
    "    # doi:10.1175/1520-0450(1992)031<1507%3APFTSVP>2.0.CO%3B2\n",
    "    c_w = (6.115836990e000, 0.444606896e000, 0.143177157e-01, 0.264224321e-03, 0.299291081e-05,\n",
    "           0.203154182e-07, 0.702620698e-10, 0.379534310e-13, -.321582393e-15)\n",
    "    \n",
    "    T0 = T0 = constants.zero_Celsius * si.kelvin\n",
    "    \n",
    "    def __molar_mass(x):\n",
    "        return x.atomic_weight * si.gram / si.mole\n",
    "\n",
    "    M_a = (\n",
    "        0.78 * __molar_mass(pt.N) * 2 + \n",
    "        0.21 * __molar_mass(pt.O) * 2 + \n",
    "        0.01 * __molar_mass(pt.Ar)\n",
    "    )\n",
    "    M_v = __molar_mass(pt.O) + __molar_mass(pt.H) * 2\n",
    "    \n",
    "    R_str = constants.R * si.joule / si.kelvin / si.mole\n",
    "    \n",
    "    R_a = R_str / M_a\n",
    "    R_v = R_str / M_v\n",
    "    \n",
    "    g = constants.g * si.metre / si.second**2\n",
    "    \n",
    "    # the only new things!\n",
    "    l_v = 2.5e6 * si.joule / si.kilogram\n",
    "    c_p  = 1000 * si.joule / si.kilogram / si.kelvin"
   ]
  },
  {
   "cell_type": "code",
   "execution_count": 3,
   "metadata": {},
   "outputs": [],
   "source": [
    "class Formulae:\n",
    "    @staticmethod\n",
    "    def rho(p, R, T):\n",
    "        return p / (R * T)\n",
    "\n",
    "    @staticmethod\n",
    "    def __p_sat(temperature, coefficients, valid_range):\n",
    "        from numpy.polynomial.polynomial import polyval\n",
    "\n",
    "        value = polyval(temperature.to(si.celsius).magnitude, coefficients)\n",
    "\n",
    "        if isinstance(temperature.magnitude, np.ndarray):\n",
    "            value[np.logical_or(temperature < valid_range[0], temperature > valid_range[1])] = np.nan\n",
    "        else:\n",
    "            value = np.nan if not valid_range[0] < temperature <= valid_range[1] else value\n",
    "\n",
    "        return value * si.hectopascals    \n",
    "\n",
    "    @staticmethod\n",
    "    def p_eq(T):\n",
    "        return Formulae.__p_sat(T, Constants.c_w, (Constants.T0-85 * si.kelvin, np.inf * si.kelvin))"
   ]
  },
  {
   "cell_type": "markdown",
   "metadata": {},
   "source": [
    "### let's play with numpy, pint and scipy"
   ]
  },
  {
   "cell_type": "code",
   "execution_count": 4,
   "metadata": {},
   "outputs": [],
   "source": [
    "class Storage:\n",
    "    class __Impl(np.ndarray):\n",
    "        p_idx, p_unit = 0, si.hectopascals\n",
    "        T_idx, T_unit = 1, si.kelvins\n",
    "        m_idx, m_unit = 2, si.grams\n",
    "        z_unit = si.metres\n",
    "        \n",
    "        @property\n",
    "        def p(self):\n",
    "            return self[self.p_idx] * self.p_unit\n",
    "\n",
    "        @p.setter\n",
    "        def p(self, value):\n",
    "            self[self.p_idx] = value.to(self.p_unit) / self.p_unit\n",
    "\n",
    "        @property\n",
    "        def T(self):\n",
    "            return self[self.T_idx] * self.T_unit\n",
    "\n",
    "        @T.setter\n",
    "        def T(self, value):\n",
    "            self[self.T_idx] = value.to(self.T_unit) / self.T_unit\n",
    "\n",
    "        @property\n",
    "        def m(self):\n",
    "            return self[self.m_idx] * self.m_unit\n",
    "\n",
    "        @m.setter\n",
    "        def m(self, value):\n",
    "            self[self.m_idx] = value.to(self.m_unit) / self.m_unit\n",
    "\n",
    "    @staticmethod\n",
    "    def __make_storage(shape):\n",
    "        storage = Storage.__Impl(shape)\n",
    "        return storage\n",
    "    \n",
    "    @staticmethod\n",
    "    def make_state():\n",
    "        return Storage.__make_storage((3,))\n",
    "\n",
    "    @staticmethod\n",
    "    def make_deriv(state):\n",
    "        storage = Storage.__make_storage(state.shape)\n",
    "        storage.p_unit /= storage.z_unit\n",
    "        storage.T_unit /= storage.z_unit\n",
    "        storage.m_unit /= storage.z_unit\n",
    "        return storage\n",
    "    \n",
    "    @staticmethod\n",
    "    def view_state(array):\n",
    "        storage = Storage.__make_storage(array.shape)\n",
    "        storage[:] = array[:]\n",
    "        return storage"
   ]
  },
  {
   "cell_type": "markdown",
   "metadata": {},
   "source": [
    "### the system we need to solve (super simplified \"parcel model\")"
   ]
  },
  {
   "cell_type": "markdown",
   "metadata": {},
   "source": [
    "$$\n",
    "\\begin{eqnarray}\n",
    "  \\frac{dp}{dz} &=& - \\rho g \\\\\n",
    "  \\frac{dm}{dz} &=& \\frac{\\max(0, m_v - m_{eq})}{dz} \\\\\n",
    "  \\frac{dT}{dz} &=& \\frac{1}{c_p} \\left(\\frac{1}{\\rho}\\frac{dp}{dz} + \\frac{l_v}{m_a} \\frac{dm}{dz} \\right)\n",
    "\\end{eqnarray}\n",
    "$$"
   ]
  },
  {
   "cell_type": "markdown",
   "metadata": {},
   "source": [
    "$p$: pressure   \n",
    "$z$: vertical displacement   \n",
    "$\\rho$: density   \n",
    "$g$: gravitational acceleration   \n",
    "$m$: mass of liquid water   \n",
    "$m_v$: mass of water vapour      \n",
    "$m_{eq}$: mass of water vapour at saturation (in phase equilibrium wrt water surface)   \n",
    "$T$: temperature   \n",
    "$c_p$: specific heat of air   \n",
    "$l_v$: latent heat of vapourisation   \n",
    "$m_a$: mass of air"
   ]
  },
  {
   "cell_type": "markdown",
   "metadata": {},
   "source": [
    "### let's implement the system according to SciPy API"
   ]
  },
  {
   "cell_type": "code",
   "execution_count": 5,
   "metadata": {},
   "outputs": [],
   "source": [
    "class System:\n",
    "    def __init__(self, pv0, volume, state):\n",
    "        assert state.m == 0\n",
    "        self.m_a = Formulae.rho(state.p, Constants.R_a, state.T) * volume\n",
    "        self.m_w = Formulae.rho(pv0, Constants.R_v, state.T) * volume\n",
    "        \n",
    "    def __call__(self, _, state, dz):\n",
    "        state = Storage.view_state(state)\n",
    "        deriv = Storage.make_deriv(state)\n",
    "            \n",
    "        rho = Formulae.rho(state.p, Constants.R_a, state.T)\n",
    "        volume = self.m_a / rho\n",
    "        p_eq = Formulae.p_eq(state.T)\n",
    "        m_eq = Formulae.rho(p_eq, Constants.R_v, state.T) * volume\n",
    "        m_v = self.m_w - state.m\n",
    "        \n",
    "        # hydrostatic pressure\n",
    "        deriv.p = -Formulae.rho(state.p, Constants.R_a, state.T) * Constants.g\n",
    "        \n",
    "        # saturation adjustment\n",
    "        deriv.m = max(0 * state.m_unit, m_v - m_eq) / dz\n",
    "            \n",
    "        # heat budget\n",
    "        deriv.T = (deriv.p/rho + deriv.m/self.m_a * Constants.l_v) / Constants.c_p\n",
    "        \n",
    "        return deriv"
   ]
  },
  {
   "cell_type": "markdown",
   "metadata": {},
   "source": [
    "### before using sophisticated solvers from SciPy (next week), let's use a simplest one "
   ]
  },
  {
   "cell_type": "code",
   "execution_count": 6,
   "metadata": {},
   "outputs": [],
   "source": [
    "def solve(system, state, displacement, dz):\n",
    "    nz = int(displacement / dz)\n",
    "    z = [0.] * nz * state.z_unit\n",
    "    states = np.repeat(state.reshape(-1, 1), nz, axis=1)\n",
    "    dz_magn = dz.to(state.z_unit).magnitude\n",
    "    \n",
    "    for i, _ in enumerate(z[1:], start=1):\n",
    "        z[i] = z[i-1] + dz\n",
    "        states[:, i] = states[:, i-1] + dz_magn * system(_, states[:, i-1], dz)\n",
    "        \n",
    "    return states, z"
   ]
  },
  {
   "cell_type": "markdown",
   "metadata": {},
   "source": [
    "### and let's finally do the calculations ..."
   ]
  },
  {
   "cell_type": "code",
   "execution_count": 25,
   "metadata": {},
   "outputs": [],
   "source": [
    "state = Storage.make_state()\n",
    "\n",
    "state.p = 1000 * si.hectopascals \n",
    "state.T = 300 * si.kelvins\n",
    "state.m = 0 * si.grams\n",
    "\n",
    "volume = 1 * si.metre**3\n",
    "pv0 = .995 * Formulae.p_eq(state.T)\n",
    "displacement = 100 * si.metres\n",
    "\n",
    "system = System(pv0, volume, state)\n",
    "integ, z = solve(system, state, displacement, dz = .1 * si.metre)"
   ]
  },
  {
   "cell_type": "markdown",
   "metadata": {},
   "source": [
    "### ... and plotting"
   ]
  },
  {
   "cell_type": "code",
   "execution_count": 28,
   "metadata": {},
   "outputs": [
    {
     "data": {
      "text/plain": [
       "<matplotlib.legend.Legend at 0x7f981ec33b90>"
      ]
     },
     "execution_count": 28,
     "metadata": {},
     "output_type": "execute_result"
    },
    {
     "data": {
      "image/png": "[encoded data removed]",
      "text/plain": [
       "<Figure size 432x288 with 2 Axes>"
      ]
     },
     "metadata": {
      "needs_background": "light"
     },
     "output_type": "display_data"
    }
   ],
   "source": [
    "m_v = system.m_w - integ.m\n",
    "volume = system.m_a / Formulae.rho(integ.p, Constants.R_a, integ.T) \n",
    "p_v = m_v / volume * Constants.R_v * integ.T\n",
    "p_eq = Formulae.p_eq(integ.T)\n",
    "\n",
    "fig, axs = pyplot.subplots(1, 2, sharey=True)\n",
    "axs[0].step(100 * (p_v / p_eq - 1), z, label='Supersaturation [%]')\n",
    "axs[1].step(integ.m / volume, z, color='red', label='Liquid water content')\n",
    "fig.legend()"
   ]
  },
  {
   "cell_type": "markdown",
   "metadata": {},
   "source": [
    "## TBC!"
   ]
  },
  {
   "cell_type": "code",
   "execution_count": null,
   "metadata": {},
   "outputs": [],
   "source": []
  }
 ],
 "metadata": {
  "kernelspec": {
   "display_name": "Python 3",
   "language": "python",
   "name": "python3"
  },
  "language_info": {
   "codemirror_mode": {
    "name": "ipython",
    "version": 3
   },
   "file_extension": ".py",
   "mimetype": "text/x-python",
   "name": "python",
   "nbconvert_exporter": "python",
   "pygments_lexer": "ipython3",
   "version": "3.7.6"
  }
 },
 "nbformat": 4,
 "nbformat_minor": 4
}
