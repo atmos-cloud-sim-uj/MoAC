{
 "cells": [
  {
   "cell_type": "markdown",
   "metadata": {},
   "source": [
    "# Modelling of Atmospheric Clodus\n",
    "#### copyright: Jagiellonian University   \n",
    "#### licence: CC-BY\n",
    "#### author: Sylwester Arabas"
   ]
  },
  {
   "cell_type": "markdown",
   "metadata": {},
   "source": [
    "## Class 5 (March 23, virtual)\n",
    "\n",
    "Let's try to reproduce Figure 7.4 from Rogers & Yau \n",
    "(first and last panel last week, middle panels this week)"
   ]
  },
  {
   "cell_type": "markdown",
   "metadata": {},
   "source": [
    "![alt text](Rogers_Yau_Fig_7.4.png \"Rogers_Yau_Fig_7.4\")"
   ]
  },
  {
   "cell_type": "markdown",
   "metadata": {},
   "source": [
    "### previously on..."
   ]
  },
  {
   "cell_type": "code",
   "execution_count": 1,
   "metadata": {},
   "outputs": [],
   "source": [
    "import numpy as np\n",
    "import pint\n",
    "from matplotlib import pyplot, rcParams\n",
    "# <NEW>\n",
    "rcParams['figure.figsize'] = [14, 5]\n",
    "# </NEW>\n",
    "si = pint.UnitRegistry()\n",
    "si.setup_matplotlib()"
   ]
  },
  {
   "cell_type": "code",
   "execution_count": 2,
   "metadata": {},
   "outputs": [],
   "source": [
    "class Constants:\n",
    "    from scipy import constants\n",
    "    import mendeleev as pt\n",
    "    \n",
    "    # polynomial fot to equilibrium vapour pressure wrt water (coefficients from Flatau et al. 1992)\n",
    "    # doi:10.1175/1520-0450(1992)031<1507%3APFTSVP>2.0.CO%3B2\n",
    "    c_w = (6.115836990e000, 0.444606896e000, 0.143177157e-01, 0.264224321e-03, 0.299291081e-05,\n",
    "           0.203154182e-07, 0.702620698e-10, 0.379534310e-13, -.321582393e-15)\n",
    "    \n",
    "    T0 = T0 = constants.zero_Celsius * si.kelvin\n",
    "    \n",
    "    def __molar_mass(x):\n",
    "        return x.atomic_weight * si.gram / si.mole\n",
    "\n",
    "    M_a = (\n",
    "        0.78 * __molar_mass(pt.N) * 2 + \n",
    "        0.21 * __molar_mass(pt.O) * 2 + \n",
    "        0.01 * __molar_mass(pt.Ar)\n",
    "    )\n",
    "    M_v = __molar_mass(pt.O) + __molar_mass(pt.H) * 2\n",
    "    \n",
    "    R_str = constants.R * si.joule / si.kelvin / si.mole\n",
    "    \n",
    "    R_a = R_str / M_a\n",
    "    R_v = R_str / M_v\n",
    "    \n",
    "    g = constants.g * si.metre / si.second**2\n",
    "    \n",
    "    l_v = 2.5e6 * si.joule / si.kilogram\n",
    "    c_p  = 1000 * si.joule / si.kilogram / si.kelvin\n",
    "    \n",
    "    # <NEW>\n",
    "    D = 2.26e-5 * si.metre ** 2 / si.second\n",
    "    rho_w = 1 * si.kilogram / si.litre\n",
    "    # </NEW>"
   ]
  },
  {
   "cell_type": "code",
   "execution_count": 3,
   "metadata": {},
   "outputs": [],
   "source": [
    "class Formulae:\n",
    "    @staticmethod\n",
    "    def rho(p, R, T):\n",
    "        return p / (R * T)\n",
    "\n",
    "    @staticmethod\n",
    "    def __p_sat(temperature, coefficients, valid_range):\n",
    "        from numpy.polynomial.polynomial import polyval\n",
    "\n",
    "        value = polyval(temperature.to(si.celsius).magnitude, coefficients)\n",
    "\n",
    "        if isinstance(temperature.magnitude, np.ndarray):\n",
    "            value[np.logical_or(temperature < valid_range[0], temperature > valid_range[1])] = np.nan\n",
    "        else:\n",
    "            value = np.nan if not valid_range[0] < temperature <= valid_range[1] else value\n",
    "\n",
    "        return value * si.hectopascals    \n",
    "\n",
    "    @staticmethod\n",
    "    def p_eq(T):\n",
    "        return Formulae.__p_sat(T, Constants.c_w, (Constants.T0-85 * si.kelvin, np.inf * si.kelvin))\n",
    "    \n",
    "    # <NEW>\n",
    "    @staticmethod\n",
    "    def lognormal(r, n_tot, r_m, gstdev):\n",
    "        return n_tot / r \\\n",
    "          * np.exp(-pow((np.log(r/r_m)), 2)/2 / pow(np.log(gstdev),2)) \\\n",
    "          / np.log(gstdev) \\\n",
    "          / np.sqrt(2*np.pi)\n",
    "    # </NEW>"
   ]
  },
  {
   "cell_type": "code",
   "execution_count": 4,
   "metadata": {},
   "outputs": [],
   "source": [
    "class Storage:\n",
    "    class __Impl(np.ndarray):\n",
    "        p_idx, p_unit = 0, si.hectopascals\n",
    "        T_idx, T_unit = 1, si.kelvins\n",
    "        m_unit = si.grams\n",
    "        z_unit = si.metres\n",
    "        \n",
    "        # <NEW>\n",
    "        @property\n",
    "        def m_idx(self):\n",
    "            return slice(2, self.shape[0])\n",
    "        # </NEW>\n",
    "        \n",
    "        @property\n",
    "        def p(self):\n",
    "            return self[self.p_idx] * self.p_unit\n",
    "\n",
    "        @p.setter\n",
    "        def p(self, value):\n",
    "            self[self.p_idx] = (value.to(self.p_unit) / self.p_unit).magnitude\n",
    "\n",
    "        @property\n",
    "        def T(self):\n",
    "            return self[self.T_idx] * self.T_unit\n",
    "\n",
    "        @T.setter\n",
    "        def T(self, value):\n",
    "            self[self.T_idx] = (value.to(self.T_unit) / self.T_unit).magnitude\n",
    "\n",
    "        @property\n",
    "        def m(self):\n",
    "            return self[self.m_idx] * self.m_unit\n",
    "\n",
    "        @m.setter\n",
    "        def m(self, value):\n",
    "            self[self.m_idx] = (value.to(self.m_unit) / self.m_unit).magnitude\n",
    "\n",
    "    @staticmethod\n",
    "    def __make_storage(shape):\n",
    "        storage = Storage.__Impl(shape)\n",
    "        return storage\n",
    "    \n",
    "    # <NEW>\n",
    "    @staticmethod\n",
    "    def make_state(n_particles):\n",
    "        return Storage.__make_storage((2 + n_particles,))\n",
    "    #</NEW>\n",
    "    \n",
    "    @staticmethod\n",
    "    def make_deriv(state):\n",
    "        storage = Storage.__make_storage(state.shape)\n",
    "        storage.p_unit /= storage.z_unit\n",
    "        storage.T_unit /= storage.z_unit\n",
    "        storage.m_unit /= storage.z_unit\n",
    "        return storage\n",
    "    \n",
    "    @staticmethod\n",
    "    def view_state(array):\n",
    "        storage = Storage.__make_storage(array.shape)\n",
    "        storage[:] = array[:]\n",
    "        return storage"
   ]
  },
  {
   "cell_type": "markdown",
   "metadata": {},
   "source": [
    "### the new ODE system we will solve ..."
   ]
  },
  {
   "cell_type": "markdown",
   "metadata": {},
   "source": [
    "<center><b>last week (bulk):</b></center>\n",
    "$$\n",
    "\\begin{eqnarray}\n",
    "  \\frac{dp}{dz} &=& - \\rho g \\\\\n",
    "  \\frac{dm}{dz} &=& \\frac{\\max(0, m_v - m_{eq})}{dz} \\\\\n",
    "  \\frac{dT}{dz} &=& \\frac{1}{c_p} \\left(\\frac{1}{\\rho}\\frac{dp}{dz} + \\frac{l_v}{m_a} \\frac{dm}{dz} \\right)\n",
    "\\end{eqnarray}\n",
    "$$\n",
    "$$$$\n",
    "<center><b>this week (particles):</b></center>\n",
    "$$\n",
    "\\begin{eqnarray}\n",
    "  \\frac{dp}{dz} &=& - \\rho g \\\\\n",
    "  \\frac{dm_i}{dz} &=& \\frac{\\xi_i}{w} \\max\\!\\!\\left[0,\\,\\,\\frac{4\\pi r_i^2}{r_i} D (\\rho_v - \\rho_{eq})\\right]\\\\ &=& \\frac{\\xi_i}{w}\\max\\!\\!\\left[0,\\,\\,(4 \\pi)^{2/3} \\sqrt[3]{\\frac{3m_i}{\\xi_i\\rho_w}}\\,D \\left(\\rho_v - \\frac{p_{eq}(T)}{R_v T}\\right)\\right]\\\\\n",
    "  \\vdots\\\\\n",
    "  \\frac{dT}{dz} &=& \\frac{1}{c_p} \\left(\\frac{1}{\\rho}\\frac{dp}{dz} + \\frac{l_v}{m_a} \\sum_i \\frac{dm_i}{dz} \\right)\n",
    "\\end{eqnarray}\n",
    "$$"
   ]
  },
  {
   "cell_type": "markdown",
   "metadata": {},
   "source": [
    "$p$: pressure   \n",
    "$z$: vertical displacement   \n",
    "$\\rho$: air density   \n",
    "$g$: gravitational acceleration   \n",
    "$r_i$: radius of size category $i$\n",
    "$m_i$: mass of liquid water in size category $i$ (i.e., sum of masses of particles of radius $r_i$)   \n",
    "$\\xi_i$: multiplicity of size category $i$ (i.e., number of particles of radius $r_i$)      \n",
    "$\\rho_v$: density of water vapour\n",
    "$\\rho_{eq}$: density of water vapour at saturation (in phase equilibrium wrt water surface)   \n",
    "$T$: temperature   \n",
    "$c_p$: specific heat of air   \n",
    "$l_v$: latent heat of vapourisation   \n",
    "$m_a$: mass of air"
   ]
  },
  {
   "cell_type": "markdown",
   "metadata": {},
   "source": [
    "### ... implemented according to SciPy API"
   ]
  },
  {
   "cell_type": "code",
   "execution_count": 5,
   "metadata": {},
   "outputs": [],
   "source": [
    "class System:\n",
    "    def __init__(self, pv0, volume, w, xi, state):\n",
    "        self.m_a = Formulae.rho(state.p, Constants.R_a, state.T) * volume\n",
    "        self.m_w = Formulae.rho(pv0, Constants.R_v, state.T) * volume \\\n",
    "                 + np.sum(state.m) \n",
    "        self.w = w\n",
    "        self.xi = xi\n",
    "        \n",
    "    def __call__(self, _, state):\n",
    "        state = Storage.view_state(state)\n",
    "        deriv = Storage.make_deriv(state)\n",
    "            \n",
    "        rho = Formulae.rho(state.p, Constants.R_a, state.T)\n",
    "        volume = self.m_a / rho\n",
    "        rho_eq = Formulae.p_eq(state.T) / Constants.R_v / state.T\n",
    "        rho_v = (self.m_w - np.sum(state.m)) / volume\n",
    "                        \n",
    "        # hydrostatic pressure\n",
    "        deriv.p = -Formulae.rho(state.p, Constants.R_a, state.T) * Constants.g\n",
    "        \n",
    "        # Fick's law\n",
    "        deriv.m = self.xi / self.w * (4*np.pi)**(2/3) * (3*state.m/self.xi/Constants.rho_w)**(1/3) \\\n",
    "            * Constants.D * (rho_v - rho_eq)\n",
    "        deriv.m = (deriv.m + np.abs(deriv.m)) / 2\n",
    "            \n",
    "        # heat budget\n",
    "        deriv.T = (deriv.p/rho + np.sum(deriv.m)/self.m_a * Constants.l_v) / Constants.c_p\n",
    "                            \n",
    "        return deriv"
   ]
  },
  {
   "cell_type": "markdown",
   "metadata": {},
   "source": [
    "### instead of a simplest ODE solver (last week), let's now use a more sophisticated one from SciPy"
   ]
  },
  {
   "cell_type": "code",
   "execution_count": 6,
   "metadata": {},
   "outputs": [],
   "source": [
    "from scipy import integrate\n",
    "def solve(system, state, displacement):\n",
    "    integ = integrate.solve_ivp(\n",
    "        system, \n",
    "        [0, displacement / state.z_unit], \n",
    "        state,\n",
    "        max_step=(.1 * si.metre / state.z_unit).magnitude\n",
    "    )\n",
    "    assert integ.success, integ.message\n",
    "    return Storage.view_state(integ.y), integ.t * state.z_unit"
   ]
  },
  {
   "cell_type": "markdown",
   "metadata": {},
   "source": [
    "### and let's finally do the calculations ..."
   ]
  },
  {
   "cell_type": "code",
   "execution_count": 7,
   "metadata": {},
   "outputs": [],
   "source": [
    "n_particles = 64\n",
    "volume = 1 * si.metre**3\n",
    "T0 = 300 * si.kelvins\n",
    "p0 = 1000 * si.hectopascals \n",
    "pv0 = .995 * Formulae.p_eq(T0)\n",
    "displacement = 100 * si.metres\n",
    "\n",
    "radii, dr = np.linspace(200, 3000, n_particles, retstep=True) * si.nanometre\n",
    "n_n = Formulae.lognormal(r=radii, n_tot=50/si.centimetre**3, r_m = 1*si.micrometre, gstdev=1.3)\n",
    "xi = n_n * dr * volume\n",
    "\n",
    "systems = {}\n",
    "solutions = {}\n",
    "zsteps = {}\n",
    "for w in [.5, 2] * si.metre / si.second:\n",
    "    state = Storage.make_state(n_particles)\n",
    "    state.p = p0\n",
    "    state.T = T0\n",
    "    state.m = 4/3 * np.pi * Constants.rho_w * xi * radii**3\n",
    "                \n",
    "    systems[w] = System(pv0, volume, w, xi, state)\n",
    "    solutions[w], zsteps[w] = solve(systems[w], state, displacement)"
   ]
  },
  {
   "cell_type": "markdown",
   "metadata": {},
   "source": [
    "### ... and plotting"
   ]
  },
  {
   "cell_type": "code",
   "execution_count": 8,
   "metadata": {},
   "outputs": [
    {
     "data": {
      "image/png": "[encoded data removed]",
      "text/plain": [
       "<Figure size 1008x360 with 3 Axes>"
      ]
     },
     "metadata": {
      "needs_background": "light"
     },
     "output_type": "display_data"
    }
   ],
   "source": [
    "fig, axs = pyplot.subplots(1, 3, sharey=True)\n",
    "\n",
    "for w in solutions.keys():\n",
    "    sys = systems[w]\n",
    "    sol = solutions[w]\n",
    "    z = zsteps[w]\n",
    "\n",
    "    m_v = sys.m_w - np.sum(sol.m, axis=0)\n",
    "    volume = sys.m_a / Formulae.rho(sol.p, Constants.R_a, sol.T) \n",
    "    p_v = m_v / volume * Constants.R_v * sol.T\n",
    "    p_eq = Formulae.p_eq(sol.T)\n",
    "\n",
    "    axs[0].step(100 * (p_v / p_eq - 1), z, label=w)\n",
    "    \n",
    "    xi_2d = xi.reshape(-1,1).repeat(z.shape[0], axis=1)\n",
    "    mult = 3/4/np.pi/Constants.rho_w\n",
    "    rads = (sol.m / xi_2d * mult)**(1/3)\n",
    "    mean_r = np.sum(rads * xi_2d, axis=0) / np.sum(xi)\n",
    "    axs[1].step(mean_r, z, label=w)\n",
    "    axs[1].xaxis.set_units(si.micrometres)\n",
    "    \n",
    "    axs[2].step((sys.m_w - m_v) / volume, z, label=w)\n",
    "    axs[2].xaxis.set_units(si.grams / si.metre**3)\n",
    "\n",
    "for i in range(len(axs)): \n",
    "    axs[i].legend(loc='upper left')\n",
    "    axs[i].grid()\n",
    "    \n",
    "_ = axs[0].set_title('Supersaturation [%]')\n",
    "_ = axs[1].set_title('Average radius')\n",
    "_ = axs[2].set_title('Liquid water content')"
   ]
  },
  {
   "cell_type": "markdown",
   "metadata": {},
   "source": [
    "## Homework (instead of the lab): plot evolution of the spectra"
   ]
  },
  {
   "cell_type": "markdown",
   "metadata": {},
   "source": [
    "## Next week: particle collisions & PySDM project ideas"
   ]
  },
  {
   "cell_type": "markdown",
   "metadata": {},
   "source": [
    "## In two weeks: pitch session! (everyone presents for 5 minutes + 5 min. discussion)"
   ]
  },
  {
   "cell_type": "code",
   "execution_count": null,
   "metadata": {},
   "outputs": [],
   "source": []
  }
 ],
 "metadata": {
  "kernelspec": {
   "display_name": "Python 3",
   "language": "python",
   "name": "python3"
  },
  "language_info": {
   "codemirror_mode": {
    "name": "ipython",
    "version": 3
   },
   "file_extension": ".py",
   "mimetype": "text/x-python",
   "name": "python",
   "nbconvert_exporter": "python",
   "pygments_lexer": "ipython3",
   "version": "3.8.2"
  }
 },
 "nbformat": 4,
 "nbformat_minor": 4
}
