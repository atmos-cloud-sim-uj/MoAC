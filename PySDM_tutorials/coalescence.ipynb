{
 "cells": [
  {
   "cell_type": "markdown",
   "metadata": {
    "slideshow": {
     "slide_type": "skip"
    }
   },
   "source": [
    "note that this notebook can be viewed as a slideshow triggered by: File -> Download as -> Reveal.js slides (.html)"
   ]
  },
  {
   "cell_type": "markdown",
   "metadata": {
    "slideshow": {
     "slide_type": "slide"
    }
   },
   "source": [
    "# PySDM tutorial: Coalescence\n",
    "### authors: see [github.com/atmos-cloud-sim-uj](https://github.com/atmos-cloud-sim-uj/PySDM/graphs/contributors)\n",
    "### copyright: Jagiellonian University\n",
    "#### tutorial licence: CC-BY\n",
    "#### tutorial files: [github.com/atmos-cloud-sim-uj/PySDM/tree/master/PySDM_tutorials](https://github.com/atmos-cloud-sim-uj/PySDM/tree/master/PySDM_tutorials)"
   ]
  },
  {
   "cell_type": "markdown",
   "metadata": {
    "slideshow": {
     "slide_type": "slide"
    }
   },
   "source": [
    "### Smoluchowski coagulation equation\n",
    "\n",
    "<br>\n",
    "\\begin{eqnarray}\n",
    "\\frac{d}{dt}{c_i} = \\frac{1}{2} \\sum\\limits_{k=1}^{i-1} a_{k, i-k} c_k c_{i-k} - \\sum\\limits_{k=1}^{\\infty} a_{k, i} c_k c_i\n",
    "\\end{eqnarray}\n",
    "\n",
    "where $a_{i,k}$ is a so-called kernel defining rate of collisions and $c_i$ is the number concentration (in a volume of air) of the particles with volume $i \\cdot \\Delta v$ where $\\Delta v$ is a droplet volume increment.\n",
    "\n",
    "Note that $c_i$ will correspond to super-droplet multiplicity $n^{[i]}$ (in a unit volume of air) if:\n",
    "- $v^{[i]} = i \\cdot \\Delta v$,\n",
    "- $v^{[i]}$ does not change in time."
   ]
  },
  {
   "cell_type": "markdown",
   "metadata": {
    "slideshow": {
     "slide_type": "slide"
    }
   },
   "source": [
    "### Smoluchowski equation: example\n",
    "\n",
    "\\begin{eqnarray}\n",
    "\\frac{d}{dt}{c_i} = \\frac{1}{2} \\sum\\limits_{k=1}^{i-1} a_{k, i-k} c_k c_{i-k} - \\sum\\limits_{k=1}^{\\infty} a_{k, i} c_k c_i\n",
    "\\end{eqnarray}"
   ]
  },
  {
   "cell_type": "code",
   "execution_count": 1,
   "metadata": {
    "slideshow": {
     "slide_type": "skip"
    }
   },
   "outputs": [],
   "source": [
    "def smoluchowski(c, a, dt):\n",
    "    dc = [0]*len(c)\n",
    "    for i in range(len(c)):\n",
    "        dc[i] = (\n",
    "            1/2 * sum([a[k][i-k-1] * c[k] * c[i-k-1] for k in range(i)]) \n",
    "                - sum([a[k][i]     * c[k] * c[i]     for k in range(len(c))])\n",
    "        )\n",
    "    for i in range(len(c)):\n",
    "        c[i] += dc[i] * dt "
   ]
  },
  {
   "cell_type": "code",
   "execution_count": 14,
   "metadata": {
    "slideshow": {
     "slide_type": "skip"
    }
   },
   "outputs": [],
   "source": [
    "import matplotlib.pyplot as plt\n",
    "fig = None\n",
    "\n",
    "def plot(c, column):\n",
    "    global fig, axs\n",
    "    if fig is None:\n",
    "        fig, axs = plt.subplots(1, 2, figsize=(10,3), sharey=True)\n",
    "    axs[column].bar(range(1, len(c)+1), c)\n",
    "    axs[column].set_xlabel('$i$').set_fontsize(15)\n",
    "    axs[column].set_ylabel('$c_i$').set_fontsize(15)\n",
    "    axs[column].set_xticks([1,2,3])\n"
   ]
  },
  {
   "cell_type": "code",
   "execution_count": 15,
   "metadata": {
    "slideshow": {
     "slide_type": "fragment"
    }
   },
   "outputs": [
    {
     "data": {
      "image/png": "[encoded data removed]",
      "text/plain": [
       "<Figure size 720x216 with 2 Axes>"
      ]
     },
     "metadata": {
      "needs_background": "light"
     },
     "output_type": "display_data"
    }
   ],
   "source": [
    "c = [3,4,0]\n",
    "a = [[0,   1/6, 0], \n",
    "     [1/6, 0,   0], \n",
    "     [0,   0,   0]]\n",
    "\n",
    "plot(c, 0)\n",
    "smoluchowski(c, a, dt=1)\n",
    "plot(c, 1)"
   ]
  },
  {
   "cell_type": "markdown",
   "metadata": {
    "slideshow": {
     "slide_type": "slide"
    }
   },
   "source": [
    "### Smoluchowski equation: challenges\n",
    "\n",
    "- lack of analytical solutions for physical kernels\n",
    "- challenges with numerical solutions:\n",
    "  - distinguishing particles of same $v^{[i]}$ but different attributes (curse of dimensionality) \n",
    "  - $v^{[i]} : [0, T] \\rightarrow \\mathcal{R}$ (due to processes other than coalescence)\n",
    "  - increasing number of super-particles needed to represent outcomes of collisions"
   ]
  },
  {
   "cell_type": "markdown",
   "metadata": {
    "slideshow": {
     "slide_type": "slide"
    }
   },
   "source": [
    "### Monte-Carlo alternative to Smoluchowski's eq.\n",
    "| &nbsp; | <span style=\"font-size:1.5em;\"><br><br><center>Smoluchowski (deterministic)</center><br>&nbsp;</span>| <span style=\"font-size:1.5em;\"><br><br><center>SDM (stochastic)</center><br>&nbsp;</span> |\n",
    "|------------------|-----------------------|--------------------|\n",
    "|<span style=\"font-size:1.5em;font-weight:bold;\"><br>considered pairs<br>&nbsp;</span> | <span style=\"font-size:1.5em;\">all (i,j) pairs</span> | <span style=\"font-size:1.5em;\">random set of N/2 non-overlapping pairs, <br> probability upscaled by $n^2/2$ to $n/2$ ratio</span>     |\n",
    "|<span style=\"font-size:1.5em;font-weight:bold;\"><br>comp. complexity<br>&nbsp;</span>  | <span style=\"font-size:1.5em;\">$O(n^2)$</span>                | <span style=\"font-size:1.5em;\">$O(n)$</span>               |\n",
    "|<span style=\"font-size:1.5em;font-weight:bold;\"><br>collisions<br>&nbsp;</span>        | <span style=\"font-size:1.5em;\">colliding a fraction of $n^{[i]}$, $n^{[j]}$</span> | <span style=\"font-size:1.5em;\">collide all of min{$n^{[i]}$, $n^{[j]}$} (all or nothing)</span> |\n",
    "|<span style=\"font-size:1.5em;font-weight:bold;\"><br>collisions triggered<br>&nbsp;</span> | <span style=\"font-size:1.5em;\">every timestep</span> | <span style=\"font-size:1.5em;\">by comparing probability with a random number</span> |"
   ]
  },
  {
   "cell_type": "markdown",
   "metadata": {
    "slideshow": {
     "slide_type": "slide"
    }
   },
   "source": [
    "### The super-droplet method (Shima et al. 2009, Fig. 1)\n",
    "<img src=\"https://raw.githubusercontent.com/atmos-cloud-sim-uj/PySDM/master/PySDM_tutorials/pics/Shima_et_al_2009_Fig_1.png\" width=\"500\">"
   ]
  },
  {
   "cell_type": "markdown",
   "metadata": {
    "slideshow": {
     "slide_type": "slide"
    }
   },
   "source": [
    "### SDM vs. Golovin's analytic solution (Shima et al. 2009, Fig. 2a)\n",
    "<img src=\"https://raw.githubusercontent.com/atmos-cloud-sim-uj/PySDM/master/PySDM_tutorials/pics/Shima_et_al_2009_Fig_2a.png\" width=\"500\">\n",
    "See <a href=\"../PySDM_examples/Shima_et_al_2009_Fig_2/demo.ipynb\">demo</a>"
   ]
  },
  {
   "cell_type": "code",
   "execution_count": null,
   "metadata": {
    "slideshow": {
     "slide_type": "skip"
    }
   },
   "outputs": [],
   "source": []
  }
 ],
 "metadata": {
  "celltoolbar": "Slideshow",
  "kernelspec": {
   "display_name": "Python 3",
   "language": "python",
   "name": "python3"
  },
  "language_info": {
   "codemirror_mode": {
    "name": "ipython",
    "version": 3
   },
   "file_extension": ".py",
   "mimetype": "text/x-python",
   "name": "python",
   "nbconvert_exporter": "python",
   "pygments_lexer": "ipython3",
   "version": "3.6.6"
  },
  "pycharm": {
   "stem_cell": {
    "cell_type": "raw",
    "metadata": {
     "collapsed": false
    },
    "source": []
   }
  }
 },
 "nbformat": 4,
 "nbformat_minor": 2
}
